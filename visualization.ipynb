{
  "cells": [
    {
      "cell_type": "markdown",
      "metadata": {
        "id": "cv9B4VYfXv03"
      },
      "source": [
        "### Assuming all the steps to preprocess the images and generate embeddings have been executed. This Notebook is for visualization.\n",
        "\n",
        "Place the images in `/content/imgs` and cropped face images in `/content/faces` according to the directory structure in [README.md](https://github.com/mdhvg/face-clusters#project-structure)"
      ]
    },
    {
      "cell_type": "code",
      "execution_count": null,
      "metadata": {
        "id": "asLuHD2sXv04"
      },
      "outputs": [],
      "source": [
        "baseDir = \".\"\n",
        "imgDir = baseDir + \"/imgs\"\n",
        "faceDir = baseDir + \"/faces\"\n",
        "!pip install -r \"requirements.txt\""
      ]
    },
    {
      "cell_type": "code",
      "execution_count": null,
      "metadata": {
        "id": "QOH85p0aXv05"
      },
      "outputs": [],
      "source": [
        "import pickle\n",
        "import pandas as pd\n",
        "import numpy as np\n",
        "import plotly.express as px\n",
        "\n",
        "\n",
        "embeddings = pickle.load(open(f\"{baseDir}/embeddings-umap.pkl\", \"rb\"))\n",
        "embeddings = np.array(embeddings)\n",
        "print(embeddings.shape)\n",
        "\n",
        "df = pd.DataFrame(embeddings, columns=['x', 'y'])\n",
        "\n",
        "print(df.head())"
      ]
    },
    {
      "cell_type": "code",
      "execution_count": null,
      "metadata": {
        "id": "8HEvuGlOXv05"
      },
      "outputs": [],
      "source": [
        "fig = px.scatter(df, x='x', y='y')\n",
        "fig.show()"
      ]
    },
    {
      "cell_type": "markdown",
      "metadata": {
        "id": "k5hyDJOfXv05"
      },
      "source": [
        "First using HDBSCAN"
      ]
    },
    {
      "cell_type": "code",
      "execution_count": null,
      "metadata": {
        "id": "pdxbAy67Xv05"
      },
      "outputs": [],
      "source": [
        "import hdbscan\n",
        "import plotly.express as px\n",
        "import pandas as pd\n",
        "import numpy as np\n",
        "\n",
        "clusterer = hdbscan.HDBSCAN(min_cluster_size=20, min_samples=15)\n",
        "labels = clusterer.fit_predict(embeddings)\n",
        "\n",
        "df = pd.DataFrame({'x': embeddings[:, 0], 'y': embeddings[:, 1], 'labels': labels})\n",
        "\n",
        "fig = px.scatter(df, x='x', y='y', color='labels', title='HDBSCAN Clustering', labels={'labels': 'Cluster'})\n",
        "fig.show()"
      ]
    },
    {
      "cell_type": "markdown",
      "metadata": {
        "id": "DDwLuWqkXv05"
      },
      "source": [
        "Secondly, with DBSCAN"
      ]
    },
    {
      "cell_type": "code",
      "execution_count": null,
      "metadata": {
        "id": "JHkYREp2Xv05"
      },
      "outputs": [],
      "source": [
        "import numpy as np\n",
        "from sklearn.cluster import DBSCAN\n",
        "import plotly.express as px\n",
        "import pandas as pd\n",
        "\n",
        "clusterer = DBSCAN(eps=1.3, min_samples=10)\n",
        "labels = clusterer.fit_predict(embeddings)\n",
        "\n",
        "df = pd.DataFrame({'x': embeddings[:, 0], 'y': embeddings[:, 1], 'labels': labels})\n",
        "\n",
        "fig = px.scatter(df, x='x', y='y', color='labels', title='DBSCAN Clustering', labels={'labels': 'Cluster'})\n",
        "fig.show()"
      ]
    }
  ],
  "metadata": {
    "language_info": {
      "name": "python"
    },
    "colab": {
      "provenance": []
    }
  },
  "nbformat": 4,
  "nbformat_minor": 0
}